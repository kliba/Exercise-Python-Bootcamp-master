"""Testing your code is very important.
Getting used to writing testing code and running this code in parallel is now considered a good habit.
Used wisely, this method helps you define more precisely your code’s intent and have a more decoupled architecture.
https://docs.python-guide.org/writing/tests/
"""

